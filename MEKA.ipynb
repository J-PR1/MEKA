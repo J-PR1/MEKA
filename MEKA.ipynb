{
 "cells": [
  {
   "cell_type": "markdown",
   "metadata": {},
   "source": [
    "# Memory Efficient Kernel Approximation"
   ]
  },
  {
   "cell_type": "code",
   "execution_count": 1,
   "metadata": {
    "collapsed": true
   },
   "outputs": [],
   "source": [
    "import numpy as np\n",
    "import pandas as pd\n",
    "import cvxpy\n",
    "import matplotlib.pyplot as plt\n",
    "import time\n",
    "%matplotlib inline\n",
    "\n",
    "from sklearn.decomposition import TruncatedSVD\n",
    "from sklearn.metrics.pairwise import pairwise_kernels\n",
    "from sklearn.gaussian_process.kernels import RBF\n",
    "from sklearn.cluster import KMeans\n",
    "\n",
    "from numpy.linalg import pinv\n",
    "from numpy.linalg import inv\n",
    "from numpy.linalg import norm\n",
    "from numpy.random import randn\n",
    "from numpy.random import choice\n",
    "\n",
    "from scipy.sparse.linalg import svds\n",
    "\n",
    "from itertools import permutations"
   ]
  },
  {
   "cell_type": "markdown",
   "metadata": {},
   "source": [
    "#### Données"
   ]
  },
  {
   "cell_type": "code",
   "execution_count": null,
   "metadata": {
    "collapsed": true
   },
   "outputs": [],
   "source": [
    "data = pd.read_csv('/Users/julien/Downloads/ijcnn1.csv', header=None).values\n",
    "print(data.shape)\n",
    "data = data[np.random.choice(data.shape[0], 10000, replace=False),:]\n",
    "data.shape"
   ]
  },
  {
   "cell_type": "markdown",
   "metadata": {},
   "source": [
    "#### Fonctions"
   ]
  },
  {
   "cell_type": "code",
   "execution_count": null,
   "metadata": {
    "collapsed": true
   },
   "outputs": [],
   "source": [
    "def Kernel_matrix(gamma, X):\n",
    "    kernel = RBF(1/np.sqrt(2*gamma))\n",
    "    G = pairwise_kernels(X, metric=kernel, filter_params=False)\n",
    "    return G"
   ]
  },
  {
   "cell_type": "code",
   "execution_count": 2,
   "metadata": {
    "collapsed": true
   },
   "outputs": [],
   "source": [
    "def cluster_indices(cluster, cluster_counts):\n",
    "    cluster_end = cluster_counts[cluster] # begining of indices of the cluster \n",
    "    if cluster == list(cluster_counts.keys())[0]:\n",
    "        cluster_start = 0 # end \n",
    "    else:\n",
    "        cluster_start = cluster_counts[cluster-1] #end \n",
    "    cluster_ids = np.arange(cluster_start, cluster_end) #indices\n",
    "    return cluster_ids"
   ]
  },
  {
   "cell_type": "code",
   "execution_count": 199,
   "metadata": {},
   "outputs": [],
   "source": [
    "def nystrom(gamma, X, k, m, rs=0, approx=False):\n",
    "    kernel = RBF(1/np.sqrt(2*gamma))\n",
    "    #m = X.shape[0]  // 25\n",
    "    #m = 12\n",
    "    idx_select = choice(np.arange(X.shape[0]), size=m, replace=False) # random sample of columns to select\n",
    "    X_sample = X[idx_select, :] # data points  \n",
    "    C = pairwise_kernels(X, Y=X_sample, metric=kernel, filter_params=False) # sampled colunms of kernel matric\n",
    "    M = C[idx_select, :] # Kernel matrix of the sampled data\n",
    "    U, s, V = svds(M, k) # rank-k approximation\n",
    "    S = np.diag(s)\n",
    "    M_k = np.dot(U, np.dot(S,V))\n",
    "    M_kpinv = pinv(M_k)\n",
    "    if approx:\n",
    "        return np.dot(C, np.dot(M_kpinv, np.transpose(C)))\n",
    "    else:\n",
    "        return C, M_kpinv"
   ]
  },
  {
   "cell_type": "code",
   "execution_count": 264,
   "metadata": {},
   "outputs": [],
   "source": [
    "def MEKA(gamma, X, k, c, rs=0, verbose=False):\n",
    "    Gbar = np.zeros((X.shape[0], X.shape[0]))\n",
    "    kernel = RBF(1/np.sqrt(2*gamma)) # define kernel \n",
    "    kmeans = KMeans(c, random_state=rs) # Define clustering operator \n",
    "    if verbose:\n",
    "        print('\\nClustering.....')\n",
    "    clusters = kmeans.fit_predict(X) # compute clusters \n",
    "    unique, counts = np.unique(clusters, return_counts=True) # count nb of points in clusters\n",
    "    counts = np.cumsum(counts)\n",
    "    cluster_counts = dict(zip(unique, counts))\n",
    "    new_idx = np.argsort(clusters)\n",
    "    reverse_idx = np.argsort(new_idx)\n",
    "    X = X[new_idx,:] # rearenging matrix\n",
    "    W = {} # dict for W matrices of nystrom approximation\n",
    "    # diagonal blocs aproximation\n",
    "    if verbose:\n",
    "        print('Diagonal blocks aproximation...')\n",
    "    for s in list(cluster_counts.keys()):\n",
    "        print ('#'*s + '.'*(c-1-s) +'\\r', end='')\n",
    "        s_ids = cluster_indices(s, cluster_counts) # define indicies for selection\n",
    "        X_ss = X[s_ids, :] # Data selection\n",
    "        W[s], L_ss = nystrom(gamma, X_ss, k, k+1) # Low-rank approx\n",
    "        Gbar[np.ix_(s_ids, s_ids)] = np.dot(W[s], np.dot(L_ss, np.transpose(W[s])))\n",
    "        #print(np.dot(W[s], np.dot(L_ss, np.transpose(W[s]))))\n",
    "    # Non diagonoals block approximation\n",
    "    if verbose:\n",
    "        print('\\nNon diagonals blocks approximation...')\n",
    "    i = 0\n",
    "    for s,t in permutations(list(cluster_counts.keys()), 2):\n",
    "        if verbose:\n",
    "            print ('#'*i + '.'*(len(list(permutations(list(cluster_counts.keys()), 2)))-1-i) +'\\r', end='')\n",
    "        i += 1\n",
    "        # indices of clusters points\n",
    "        s_ids = cluster_indices(s, cluster_counts)\n",
    "        t_ids = cluster_indices(t, cluster_counts)\n",
    "        # Sampling columns and rows\n",
    "        vs = choice(np.arange(s_ids.shape[0]), replace=False, size=3*k)\n",
    "        vt = choice(np.arange(t_ids.shape[0]), replace=False, size=3*k)\n",
    "        # Sampling data \n",
    "        X_s = X[s_ids[vs], :]\n",
    "        X_t = X[t_ids[vt], :]\n",
    "        # Computing associated Kernel Matrix\n",
    "        Ghat_st = pairwise_kernels(X_s, Y=X_t, # restriction of kernel matrix\n",
    "                                   metric=kernel, filter_params=False)\n",
    "        # Sampling transformation matrixes\n",
    "        W_s_vs = W[s][vs,:]\n",
    "        W_t_vt = W[t][vt,:]\n",
    "        # Computing L_st\n",
    "        L_st = inv(np.transpose(W_s_vs).dot(W_s_vs)).dot(\n",
    "            np.transpose(W_s_vs)).dot(\n",
    "            Ghat_st).dot(W_t_vt).dot(\n",
    "            inv(np.transpose(W_t_vt).dot(\n",
    "                W_t_vt)))\n",
    "        L_st = lst(W_s_vs, W_t_vt, Ghat_st)\n",
    "        # Compute Gbar_st\n",
    "        Gbar[np.ix_(s_ids, t_ids)] = np.dot(np.dot(W[s],L_st),np.transpose(W[t]))\n",
    "    return Gbar[np.ix_(reverse_idx, reverse_idx)]"
   ]
  },
  {
   "cell_type": "code",
   "execution_count": 189,
   "metadata": {
    "collapsed": true
   },
   "outputs": [],
   "source": [
    "def approx_error(G, Gbar):\n",
    "    return norm(G-Gbar, ord='fro')/norm(G, ord='fro')"
   ]
  },
  {
   "cell_type": "markdown",
   "metadata": {},
   "source": [
    "#### Evolution des résultats de la méthode de Nystrom en fonction du rang à approximer"
   ]
  },
  {
   "cell_type": "code",
   "execution_count": 280,
   "metadata": {},
   "outputs": [
    {
     "name": "stdout",
     "output_type": "stream",
     "text": [
      "k = 196\r"
     ]
    },
    {
     "name": "stderr",
     "output_type": "stream",
     "text": [
      "//anaconda/lib/python3.6/site-packages/matplotlib/figure.py:403: UserWarning: matplotlib is currently using a non-GUI backend, so cannot show the figure\n",
      "  \"matplotlib is currently using a non-GUI backend, \"\n"
     ]
    },
    {
     "data": {
      "image/png": "[encoded data removed]",
      "text/plain": [
       "<matplotlib.figure.Figure at 0x116907e48>"
      ]
     },
     "metadata": {},
     "output_type": "display_data"
    }
   ],
   "source": [
    "N_error, N_time = [], []\n",
    "step = 15\n",
    "niter = 200\n",
    "gamma=0.1\n",
    "G = Kernel_matrix(gamma, data)\n",
    "for k in range(1, niter, step):\n",
    "    print('k = ' + str(k) + '\\r' , end='')\n",
    "    start = time.time()\n",
    "    w, cplus = nystrom(gamma, data, k, k+1)\n",
    "    Gn = np.dot(np.dot(w, cplus), w.transpose())\n",
    "    N_time.append(time.time() - start)\n",
    "    N_error.append(approx_error(G, Gn))\n",
    "\n",
    "fig, ax1 = plt.subplots()\n",
    "xs = [k for k in range(1, niter, step)]\n",
    "ax1.plot(xs, N_error, \":b\")\n",
    "ax1.set_xlabel('rank k')\n",
    "ax1.set_ylabel('error', color=\"b\")\n",
    "ax1.tick_params('y')\n",
    "\n",
    "ax2 = ax1.twinx()\n",
    "ax2.plot(xs, N_time, ':r')\n",
    "ax2.set_ylabel('time (s)', color='r')\n",
    "ax2.tick_params('y')\n",
    "\n",
    "plt.title('Evolution de l\\'erreur de la méthode Nystrom et du temps de calcul pour gamma={}'.format(gamma))\n",
    "fig.tight_layout()\n",
    "fig.savefig('Nystrom.png', dpi=300)\n",
    "fig.show()"
   ]
  },
  {
   "cell_type": "markdown",
   "metadata": {},
   "source": [
    "#### Evolution de l'erreur en fonction du rang d'approximation"
   ]
  },
  {
   "cell_type": "code",
   "execution_count": 279,
   "metadata": {},
   "outputs": [
    {
     "name": "stdout",
     "output_type": "stream",
     "text": [
      "#########\r"
     ]
    },
    {
     "name": "stderr",
     "output_type": "stream",
     "text": [
      "//anaconda/lib/python3.6/site-packages/matplotlib/figure.py:403: UserWarning: matplotlib is currently using a non-GUI backend, so cannot show the figure\n",
      "  \"matplotlib is currently using a non-GUI backend, \"\n"
     ]
    },
    {
     "data": {
      "image/png": "[encoded data removed]",
      "text/plain": [
       "<matplotlib.figure.Figure at 0x11954e4e0>"
      ]
     },
     "metadata": {},
     "output_type": "display_data"
    }
   ],
   "source": [
    "MEKA_error, N_error =  [], [] \n",
    "gamma = 0.1\n",
    "final_k = 15\n",
    "step = 2\n",
    "G = Kernel_matrix(gamma, data)\n",
    "for k in np.arange(2, final_k, step):\n",
    "    w, cplus = nystrom(gamma, data, k, k+1)\n",
    "    Gn = np.dot(np.dot(w, cplus), w.transpose())\n",
    "    N_error.append(approx_error(G, Gn))\n",
    "    Gt = MEKA(gamma, data, k, 10)\n",
    "    MEKA_error.append(approx_error(G, Gt))\n",
    "    \n",
    "fig, ax1 = plt.subplots()\n",
    "xs = [k for k in range(2, final_k, step)]\n",
    "ax1.plot(xs, N_error, \":b\", label='Nystrom')\n",
    "ax1.plot(xs, MEKA_error, \":r\", label='MEKA')\n",
    "ax1.set_xlabel('rank k')\n",
    "ax1.set_ylabel('error')\n",
    "ax1.tick_params('y')\n",
    "\n",
    "plt.legend()\n",
    "plt.title('Comparaison de l\\'évolurion de l\\'erreur avec le rang d\\'approximation pour gamma={}'.format(gamma))\n",
    "fig.tight_layout()\n",
    "fig.savefig('rank.png', dpi=400)\n",
    "fig.show()"
   ]
  },
  {
   "cell_type": "markdown",
   "metadata": {},
   "source": [
    "#### Evolution de l'erreur en fonciton de gamma"
   ]
  },
  {
   "cell_type": "code",
   "execution_count": 283,
   "metadata": {},
   "outputs": [
    {
     "name": "stdout",
     "output_type": "stream",
     "text": [
      "#########\r"
     ]
    },
    {
     "name": "stderr",
     "output_type": "stream",
     "text": [
      "//anaconda/lib/python3.6/site-packages/matplotlib/figure.py:403: UserWarning: matplotlib is currently using a non-GUI backend, so cannot show the figure\n",
      "  \"matplotlib is currently using a non-GUI backend, \"\n"
     ]
    },
    {
     "data": {
      "image/png": "[encoded data removed]",
      "text/plain": [
       "<matplotlib.figure.Figure at 0x118a5e470>"
      ]
     },
     "metadata": {},
     "output_type": "display_data"
    }
   ],
   "source": [
    "MEKA_error, N_error =  [], [] \n",
    "k=15\n",
    "gammas = [0.1, 0.5, 1, 2, 5, 8, 10]\n",
    "for gamma in gammas:\n",
    "    G = Kernel_matrix(gamma, data)\n",
    "    w, cplus = nystrom(gamma, data, k, k+1)\n",
    "    Gn = np.dot(np.dot(w, cplus), w.transpose())\n",
    "    N_error.append(approx_error(G, Gn))\n",
    "    Gt = MEKA(gamma, data, k, 10)\n",
    "    MEKA_error.append(approx_error(G, Gt))\n",
    "\n",
    "\n",
    "\n",
    "fig, ax1 = plt.subplots()\n",
    "ax1.plot(gammas, MEKA_error, \":r\", label='MEKA')\n",
    "ax1.plot(gammas, N_error, \":b\", label='Nystrom')\n",
    "ax1.set_xlabel('gamma')\n",
    "ax1.set_ylabel('error')\n",
    "ax1.tick_params('y')\n",
    "\n",
    "plt.legend()\n",
    "plt.title('Evolution de l\\'erreur en fonction de gamma')\n",
    "fig.tight_layout()\n",
    "fig.savefig('gammas.png', dpi=400)\n",
    "fig.show()"
   ]
  }
 ],
 "metadata": {
  "kernelspec": {
   "display_name": "Python 3",
   "language": "python",
   "name": "python3"
  },
  "language_info": {
   "codemirror_mode": {
    "name": "ipython",
    "version": 3
   },
   "file_extension": ".py",
   "mimetype": "text/x-python",
   "name": "python",
   "nbconvert_exporter": "python",
   "pygments_lexer": "ipython3",
   "version": "3.6.1"
  }
 },
 "nbformat": 4,
 "nbformat_minor": 2
}
